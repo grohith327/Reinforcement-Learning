{
 "cells": [
  {
   "cell_type": "code",
   "execution_count": null,
   "metadata": {},
   "outputs": [],
   "source": [
    "import numpy as np\n",
    "import torch\n",
    "import torch.nn as nn\n",
    "import torch.nn.functional as F\n",
    "from torch.distributions import Categorical\n",
    "from torch.utils.tensorboard import SummaryWriter\n",
    "import gym\n",
    "import math"
   ]
  },
  {
   "cell_type": "code",
   "execution_count": null,
   "metadata": {},
   "outputs": [],
   "source": [
    "EPISODES = 1000\n",
    "ROLLOUTS = 350\n",
    "device = 'cuda' if torch.cuda.is_available() else 'cpu'"
   ]
  },
  {
   "cell_type": "markdown",
   "metadata": {},
   "source": [
    "# Utils"
   ]
  },
  {
   "cell_type": "code",
   "execution_count": null,
   "metadata": {},
   "outputs": [],
   "source": [
    "class AverageMeter:\n",
    "    def __init__(self):\n",
    "        self.reset()\n",
    "\n",
    "    def reset(self):\n",
    "        self.val = 0\n",
    "        self.avg = 0\n",
    "        self.sum = 0\n",
    "        self.count = 0\n",
    "\n",
    "    def update(self, val, n=1):\n",
    "        self.val = val\n",
    "        self.sum += val * n\n",
    "        self.count += n\n",
    "        self.avg = self.sum / self.count"
   ]
  },
  {
   "cell_type": "code",
   "execution_count": null,
   "metadata": {},
   "outputs": [],
   "source": [
    "class PytorchWrapper(gym.Wrapper):\n",
    "    def __init__(self, env):\n",
    "        super().__init__(env)\n",
    "    \n",
    "    def step(self, action):\n",
    "        obs, reward, done, _ = self.env.step(action)\n",
    "        obs = torch.tensor(obs, dtype=torch.float)\n",
    "        reward = torch.tensor(reward, dtype=torch.float)\n",
    "        return obs, reward, done\n",
    "    \n",
    "    def reset(self):\n",
    "        obs = self.env.reset()\n",
    "        obs = torch.tensor(obs, dtype=torch.float)\n",
    "        return obs"
   ]
  },
  {
   "cell_type": "code",
   "execution_count": null,
   "metadata": {},
   "outputs": [],
   "source": [
    "def make_env(env):\n",
    "    env = PytorchWrapper(env)\n",
    "    return env"
   ]
  },
  {
   "cell_type": "markdown",
   "metadata": {},
   "source": [
    "# Policy Network"
   ]
  },
  {
   "cell_type": "code",
   "execution_count": null,
   "metadata": {},
   "outputs": [],
   "source": [
    "class PolicyNetwork(nn.Module):\n",
    "    def __init__(self, in_features, out_features):\n",
    "        super().__init__()\n",
    "        self.action_head = nn.Sequential(\n",
    "            nn.Linear(in_features, 32), \n",
    "            nn.ReLU(), \n",
    "            nn.Dropout(p=0.3),\n",
    "            nn.Linear(32, 16),\n",
    "            nn.ReLU(),\n",
    "            nn.Dropout(p=0.3),\n",
    "            nn.Linear(16, out_features),\n",
    "            nn.Softmax(dim=-1) ## Predicts action probs\n",
    "        )\n",
    "    \n",
    "    def forward(self, x):\n",
    "        action_prob = self.action_head(x)\n",
    "        return action_prob"
   ]
  },
  {
   "cell_type": "markdown",
   "metadata": {},
   "source": [
    "# Rollout Buffer"
   ]
  },
  {
   "cell_type": "code",
   "execution_count": null,
   "metadata": {},
   "outputs": [],
   "source": [
    "class RolloutBuffer:\n",
    "    def __init__(self, rollout_steps, gamma, device):\n",
    "        self.rollout_steps = rollout_steps\n",
    "        self.gamma = gamma\n",
    "        self.device = device\n",
    "        self.states = None\n",
    "        self.rewards = None\n",
    "        self.actions = None\n",
    "        self.count = None\n",
    "        self.reset()\n",
    "    \n",
    "    def reset(self):\n",
    "        self.states = [None] * self.rollout_steps\n",
    "        self.rewards = [None] * self.rollout_steps\n",
    "        self.actions = [None] * self.rollout_steps\n",
    "        self.count = 0\n",
    "    \n",
    "    def store(self, state, reward, action):\n",
    "        self.states[self.count] = state\n",
    "        self.rewards[self.count] = (self.gamma ** self.count) * reward\n",
    "        self.actions[self.count] = action\n",
    "        self.count += 1\n",
    "    \n",
    "    def compute_returns(self):\n",
    "        returns = []\n",
    "        advantages = []\n",
    "        for i in range(self.count):\n",
    "            returns.append(sum(self.rewards[i:self.count]) / self.gamma ** i)\n",
    "        return returns\n",
    "\n",
    "    def get_values(self):\n",
    "        states = torch.stack(self.states[:self.count]).to(self.device)\n",
    "        actions = torch.tensor(self.actions[:self.count]).to(self.device).long()\n",
    "        returns = self.compute_returns()\n",
    "        returns = torch.stack(returns).to(self.device)\n",
    "        self.reset()\n",
    "        return states, returns, actions"
   ]
  },
  {
   "cell_type": "markdown",
   "metadata": {},
   "source": [
    "# Policy Gradient Algorithm"
   ]
  },
  {
   "cell_type": "code",
   "execution_count": null,
   "metadata": {},
   "outputs": [],
   "source": [
    "class REINFORCE:\n",
    "    def __init__(self, obs_size, action_size, rollout_steps, device=\"cpu\", gamma=0.99, lr=0.001):\n",
    "        self.buffer = RolloutBuffer(rollout_steps, gamma, device)\n",
    "        self.policy = PolicyNetwork(obs_size, action_size).to(device)\n",
    "        self.optim = torch.optim.Adam(self.policy.parameters(), lr=lr)\n",
    "        self.rollout_steps = rollout_steps\n",
    "        self.device = device\n",
    "    \n",
    "    def policy_loss(self, log_probs, returns):\n",
    "        loss = -log_probs * returns\n",
    "        loss = loss.sum()\n",
    "        return loss\n",
    "    \n",
    "    def forward(self, obs, grad=False):\n",
    "        action_prob = self.policy(obs)\n",
    "        if not grad:\n",
    "            action_prob = action_prob.detach()\n",
    "        return action_prob\n",
    "    \n",
    "    def save_policy(self):\n",
    "        self.policy.eval()\n",
    "        torch.save(self.policy.state_dict(), \"REINFORCE.bin\")\n",
    "        self.policy.train()\n",
    "    \n",
    "    def load_policy(self, path=None):\n",
    "        if path is None:\n",
    "            path = \"REINFORCE.bin\"\n",
    "        \n",
    "        self.policy.load_state_dict(torch.load(path))\n",
    "        print(\"Successfully loaded\")\n",
    "    \n",
    "    def learn(self, env, episodes):\n",
    "        writer = SummaryWriter()\n",
    "        count = 0\n",
    "        for eps in range(episodes):\n",
    "            obs = env.reset()\n",
    "            reward_tracker = AverageMeter()\n",
    "            for _ in range(self.rollout_steps):\n",
    "                obs = obs.to(self.device)\n",
    "                action_prob = self.forward(obs.unsqueeze(0))\n",
    "                ## Sample action from prob distr\n",
    "                action = Categorical(action_prob).sample().item()\n",
    "                next_obs, reward, done = env.step(action)\n",
    "                reward_tracker.update(reward.item())\n",
    "                self.buffer.store(obs.cpu(), reward.squeeze(), action)\n",
    "                obs = next_obs\n",
    "                    \n",
    "                if(done):\n",
    "                    break\n",
    "            \n",
    "            states, returns, actions = self.buffer.get_values()\n",
    "            action_prob = self.forward(states, grad=True)\n",
    "            action_cat = Categorical(action_prob)\n",
    "            log_probs = action_cat.log_prob(actions)\n",
    "\n",
    "            ## Fit policy\n",
    "            returns = (returns - returns.mean()) / (returns.std() + 1e-6)\n",
    "            self.optim.zero_grad()\n",
    "            loss = self.policy_loss(log_probs, returns)\n",
    "            loss.backward()\n",
    "            self.optim.step()\n",
    "\n",
    "            writer.add_scalar('Loss', loss.item(), count)\n",
    "            writer.add_scalar(\"Reward\", reward_tracker.sum, count)\n",
    "            count += 1\n",
    "            \n",
    "            if(eps % 10 == 0):\n",
    "                print(f\"Episode: {eps+1}/{episodes}, loss: {loss.item()}, reward: {reward_tracker.sum}\")\n",
    "                self.save_policy()"
   ]
  },
  {
   "cell_type": "code",
   "execution_count": null,
   "metadata": {},
   "outputs": [],
   "source": [
    "env = gym.make('CartPole-v1')\n",
    "env = make_env(env)\n",
    "obs_size = env.observation_space.shape[0]\n",
    "action_size = env.action_space.n"
   ]
  },
  {
   "cell_type": "code",
   "execution_count": null,
   "metadata": {},
   "outputs": [],
   "source": [
    "agent = REINFORCE(obs_size, action_size, ROLLOUTS, device)"
   ]
  },
  {
   "cell_type": "code",
   "execution_count": null,
   "metadata": {},
   "outputs": [],
   "source": [
    "## Load tensorboard for visualization of loss\n",
    "%load_ext tensorboard\n",
    "%tensorboard --logdir runs"
   ]
  },
  {
   "cell_type": "code",
   "execution_count": null,
   "metadata": {},
   "outputs": [],
   "source": [
    "agent.learn(env, EPISODES)"
   ]
  },
  {
   "cell_type": "code",
   "execution_count": null,
   "metadata": {},
   "outputs": [],
   "source": []
  }
 ],
 "metadata": {
  "kernelspec": {
   "display_name": "Python 3",
   "language": "python",
   "name": "python3"
  },
  "language_info": {
   "codemirror_mode": {
    "name": "ipython",
    "version": 3
   },
   "file_extension": ".py",
   "mimetype": "text/x-python",
   "name": "python",
   "nbconvert_exporter": "python",
   "pygments_lexer": "ipython3",
   "version": "3.6.9"
  }
 },
 "nbformat": 4,
 "nbformat_minor": 4
}
