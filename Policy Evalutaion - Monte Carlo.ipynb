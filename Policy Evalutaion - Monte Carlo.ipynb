{
 "cells": [
  {
   "cell_type": "code",
   "execution_count": 1,
   "metadata": {},
   "outputs": [],
   "source": [
    "import matplotlib.pyplot as plt\n",
    "from matplotlib import colors\n",
    "import numpy as np\n",
    "from collections import deque\n",
    "from matplotlib import cm\n",
    "from tqdm import tqdm"
   ]
  },
  {
   "cell_type": "code",
   "execution_count": 2,
   "metadata": {},
   "outputs": [],
   "source": [
    "class GridEnv:\n",
    "    def __init__(self, m=3, n=4, gamma=0.9):\n",
    "        self.m = m\n",
    "        self.n = n\n",
    "        self.grid = None\n",
    "        self.wall = (m // 2, n // 2 - 1)\n",
    "        self.goal = (0, n - 1)\n",
    "        self.pit = (1, n - 1)\n",
    "        self.gamma = gamma\n",
    "        self.reset()\n",
    "        \n",
    "        self.action_map = {\n",
    "            0: '↑',\n",
    "            1: '→',\n",
    "            2: '↓',\n",
    "            3: '←',\n",
    "        }\n",
    "        self.policy = None\n",
    "\n",
    "    def reset(self):\n",
    "        self.grid = [[0] * self.n for _ in range(self.m)]\n",
    "        self.grid = np.array(self.grid).astype(np.float)\n",
    "        self.grid[self.goal[0], self.goal[1]] = 1\n",
    "        self.grid[1, -1] = -1\n",
    "\n",
    "    def render(self, values=None):\n",
    "        fig, ax = plt.subplots()\n",
    "        plt.gcf().canvas.mpl_connect(\n",
    "            \"key_release_event\",\n",
    "            lambda event: [exit(0) if event.key == \"escape\" else None],\n",
    "        )\n",
    "        ax.imshow(self.grid, cmap=cm.get_cmap('YlGn'))\n",
    "        ax.grid(True, which=\"major\", axis=\"both\")\n",
    "        ax.set_xticks(np.arange(-0.5, self.n, 1))\n",
    "        ax.set_yticks(np.arange(-0.5, self.m, 1))\n",
    "        ax.set_xticklabels([])\n",
    "        ax.set_yticklabels([])\n",
    "\n",
    "        x_start = -0.5\n",
    "        x_end = self.n\n",
    "        y_start = -0.5\n",
    "        y_end = self.m\n",
    "\n",
    "        jump_x = (x_end - x_start) / (2.0 * self.n)\n",
    "        jump_y = (y_end - y_start) / (2.0 * self.m)\n",
    "        x_positions = np.linspace(start=x_start, stop=x_end, num=self.n, endpoint=False)\n",
    "        y_positions = np.linspace(start=y_start, stop=y_end, num=self.m, endpoint=False)\n",
    "\n",
    "        for y_index, y in enumerate(y_positions):\n",
    "            for x_index, x in enumerate(x_positions):\n",
    "                if self.wall == (x_index, y_index):\n",
    "                    continue\n",
    "                if(values is None):\n",
    "                    label = self.action_map[self.policy[y_index, x_index]]\n",
    "                else:\n",
    "                    label = str(round(values[y_index][x_index], 2))\n",
    "                if((y_index, x_index) == self.pit):\n",
    "                    label = -1\n",
    "                if((y_index, x_index) == self.goal):\n",
    "                    label = 1\n",
    "                text_x = x + jump_x * 0.5\n",
    "                text_y = y + jump_y * 0.5\n",
    "                ax.text(text_x, text_y, label, color=\"black\", ha=\"center\", va=\"center\")\n",
    "\n",
    "        plt.pause(0.1)\n",
    "        _ = plt.show()\n",
    "    \n",
    "    def step(self, curr_state, action):\n",
    "        assert action <= 3 and action >= 0, \"action out of range\"\n",
    "        \n",
    "        m = self.m\n",
    "        n = self.n\n",
    "        rand = np.random.rand()\n",
    "        \n",
    "        if(action == 0):\n",
    "            if(rand <= 0.8):\n",
    "                state = (max(curr_state[0] - 1, 0), curr_state[1])\n",
    "            elif(rand > 0.8 and rand <= 0.9):\n",
    "                state = (curr_state[0], max(curr_state[1] - 1, 0))\n",
    "            else:\n",
    "                state = (curr_state[0], min(curr_state[1] + 1, n - 1))\n",
    "        \n",
    "        if(action == 1):\n",
    "            if(rand <= 0.8):\n",
    "                state = (curr_state[0], min(curr_state[1] + 1, n - 1))\n",
    "            elif(rand > 0.8 and rand <= 0.9):\n",
    "                state = (max(curr_state[0] - 1, 0), curr_state[1])\n",
    "            else:\n",
    "                state = (min(curr_state[0] + 1, m - 1), curr_state[1])\n",
    "        \n",
    "        if(action == 2):\n",
    "            if(rand <= 0.8):\n",
    "                state = (min(curr_state[0] + 1, m - 1), curr_state[1])\n",
    "            elif(rand > 0.8 and rand <= 0.9):\n",
    "                state = (curr_state[0], max(curr_state[1] - 1, 0))\n",
    "            else:\n",
    "                state = (curr_state[0], min(curr_state[1] + 1, n - 1))\n",
    "        \n",
    "        if(action == 3):\n",
    "            if(rand <= 0.8):\n",
    "                state = (curr_state[0], max(curr_state[1] - 1, 0))\n",
    "            elif(rand > 0.8 and rand <= 0.9):\n",
    "                state = (max(curr_state[0] - 1, 0), curr_state[1])\n",
    "            else:\n",
    "                state = (min(curr_state[0] + 1, m - 1), curr_state[1])\n",
    "        \n",
    "        if(state == self.wall):\n",
    "            state = curr_state\n",
    "            \n",
    "        done = False\n",
    "        reward = 0\n",
    "        if(state in [self.pit, self.goal]):\n",
    "            done = True\n",
    "            reward = -1 if state == self.pit else 1\n",
    "        \n",
    "        return state, reward, done\n",
    "            \n",
    "    \n",
    "    def get_random_policy(self):\n",
    "        policy = []\n",
    "        for i in range(self.m):\n",
    "            t = []\n",
    "            for j in range(self.n):\n",
    "                t.append(np.random.randint(0, 4))\n",
    "            policy.append(t)\n",
    "        return np.array(policy)\n",
    "    \n",
    "    def generate_episode(self, policy):\n",
    "        buffer = []\n",
    "        \n",
    "        s_0 = (np.random.randint(self.m), np.random.randint(self.n))\n",
    "        while(s_0 in [self.pit, self.wall, self.goal]):\n",
    "            s_0 = (np.random.randint(self.m), np.random.randint(self.n))\n",
    "        \n",
    "        done = False\n",
    "        state = None\n",
    "        while(not done):\n",
    "            if(not state):\n",
    "                state = s_0\n",
    "            action = policy[state[0], state[1]]\n",
    "            next_state, reward, done = self.step(state, action)\n",
    "            buffer.append((state, action, reward))\n",
    "            state = next_state\n",
    "        \n",
    "        return buffer\n",
    "        \n",
    "    \n",
    "    def evaluate_policy(self, iters=10, policy=None, random_policy=False, render=False):\n",
    "        self.policy = policy\n",
    "        if(policy is None or random_policy):\n",
    "            self.policy = self.get_random_policy()\n",
    "        \n",
    "        if(render):\n",
    "            print(\"Current policy\")\n",
    "            self.render()\n",
    "        \n",
    "        ## Every Visit MC Prediciton\n",
    "        returns = {(i,j):[] for i in range(self.m) for j in range(self.n)}\n",
    "        values = [[0]*self.n for _ in range(self.m)]\n",
    "        lambda_ = {(i,j):[] for i in range(self.m) for j in range(self.n)}\n",
    "        for _ in tqdm(range(iters), desc=\"Evaluating Policy\"):\n",
    "            episode = self.generate_episode(self.policy)\n",
    "            G = 0\n",
    "            for item in reversed(episode):\n",
    "                G = self.gamma * G + item[2]\n",
    "                state = item[0]\n",
    "                returns[state].append(G)\n",
    "                lambda_[state].append(abs(values[state[0]][state[1]] - np.mean(returns[state])))\n",
    "                values[state[0]][state[1]] = np.mean(returns[state])\n",
    "        \n",
    "        return returns, values, lambda_"
   ]
  },
  {
   "cell_type": "code",
   "execution_count": 3,
   "metadata": {},
   "outputs": [],
   "source": [
    "env = GridEnv()"
   ]
  },
  {
   "cell_type": "code",
   "execution_count": 4,
   "metadata": {},
   "outputs": [],
   "source": [
    "best_policy = np.array([\n",
    "    [1, 1, 1, 1],\n",
    "    [0, 0, 0, 0],\n",
    "    [0, 3, 0, 3]\n",
    "])"
   ]
  },
  {
   "cell_type": "code",
   "execution_count": 5,
   "metadata": {},
   "outputs": [
    {
     "name": "stdout",
     "output_type": "stream",
     "text": [
      "Current policy\n"
     ]
    },
    {
     "data": {
      "image/png": "[encoded data removed]",
      "text/plain": [
       "<Figure size 432x288 with 1 Axes>"
      ]
     },
     "metadata": {
      "needs_background": "light"
     },
     "output_type": "display_data"
    },
    {
     "name": "stderr",
     "output_type": "stream",
     "text": [
      "Evaluating Policy: 100%|██████████| 10000/10000 [00:10<00:00, 978.20it/s]\n"
     ]
    }
   ],
   "source": [
    "returns, values, lambda_ = env.evaluate_policy(iters=10000, policy=best_policy, render=True)"
   ]
  },
  {
   "cell_type": "code",
   "execution_count": 6,
   "metadata": {},
   "outputs": [
    {
     "data": {
      "image/png": "[encoded data removed]",
      "text/plain": [
       "<Figure size 432x288 with 1 Axes>"
      ]
     },
     "metadata": {
      "needs_background": "light"
     },
     "output_type": "display_data"
    }
   ],
   "source": [
    "env.render(values)"
   ]
  },
  {
   "cell_type": "code",
   "execution_count": 7,
   "metadata": {},
   "outputs": [
    {
     "data": {
      "image/png": "[encoded data removed]",
      "text/plain": [
       "<Figure size 720x504 with 1 Axes>"
      ]
     },
     "metadata": {
      "needs_background": "light"
     },
     "output_type": "display_data"
    }
   ],
   "source": [
    "plt.figure(figsize=(10,7))\n",
    "for k,v in lambda_.items():\n",
    "    plt.plot(np.log(np.array([i for i in range(len(lambda_[k]))]) + 1), lambda_[k])\n",
    "\n",
    "plt.xlabel('iteration - log scale')\n",
    "plt.ylabel('lambda - change in value')\n",
    "plt.show()"
   ]
  },
  {
   "cell_type": "code",
   "execution_count": null,
   "metadata": {},
   "outputs": [],
   "source": []
  }
 ],
 "metadata": {
  "kernelspec": {
   "display_name": "Python 3",
   "language": "python",
   "name": "python3"
  },
  "language_info": {
   "codemirror_mode": {
    "name": "ipython",
    "version": 3
   },
   "file_extension": ".py",
   "mimetype": "text/x-python",
   "name": "python",
   "nbconvert_exporter": "python",
   "pygments_lexer": "ipython3",
   "version": "3.6.9"
  }
 },
 "nbformat": 4,
 "nbformat_minor": 4
}
