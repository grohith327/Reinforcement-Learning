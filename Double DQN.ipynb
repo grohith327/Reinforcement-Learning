{
 "cells": [
  {
   "cell_type": "code",
   "execution_count": null,
   "metadata": {},
   "outputs": [],
   "source": [
    "import numpy as np\n",
    "import torch\n",
    "import torch.nn as nn\n",
    "import torch.nn.functional as F\n",
    "from torch.utils.tensorboard import SummaryWriter\n",
    "import gym\n",
    "import matplotlib.pyplot as plt"
   ]
  },
  {
   "cell_type": "code",
   "execution_count": null,
   "metadata": {},
   "outputs": [],
   "source": [
    "EPISODES = 1000\n",
    "BATCH_SIZE = 64\n",
    "device = 'cuda' if torch.cuda.is_available() else 'cpu'"
   ]
  },
  {
   "cell_type": "markdown",
   "metadata": {},
   "source": [
    "# Utils"
   ]
  },
  {
   "cell_type": "code",
   "execution_count": null,
   "metadata": {},
   "outputs": [],
   "source": [
    "class AverageMeter:\n",
    "    def __init__(self):\n",
    "        self.reset()\n",
    "\n",
    "    def reset(self):\n",
    "        self.val = 0\n",
    "        self.avg = 0\n",
    "        self.sum = 0\n",
    "        self.count = 0\n",
    "\n",
    "    def update(self, val, n=1):\n",
    "        self.val = val\n",
    "        self.sum += val * n\n",
    "        self.count += n\n",
    "        self.avg = self.sum / self.count"
   ]
  },
  {
   "cell_type": "code",
   "execution_count": null,
   "metadata": {},
   "outputs": [],
   "source": [
    "class PytorchWrapper(gym.Wrapper):\n",
    "    def __init__(self, env):\n",
    "        super().__init__(env) \n",
    "    \n",
    "    def _episodic(self):\n",
    "        \"\"\"\n",
    "        Episode terminates when agent loses one life\n",
    "        \"\"\"\n",
    "        if(self.env.unwrapped.ale.lives() < 5):\n",
    "            return True\n",
    "        return False\n",
    "    \n",
    "    def _fire_to_start(self):\n",
    "        \"\"\"\n",
    "        Env requires agent to perform FIRE to start\n",
    "        \"\"\"\n",
    "        obs, _, _, _ = self.env.step(1)\n",
    "        return obs\n",
    "    \n",
    "    def rgb2gray(self, rgb):\n",
    "        return np.dot(rgb[..., :3], [0.2989, 0.5870, 0.1140])\n",
    "\n",
    "    def _preprocess_obs(self, obs):\n",
    "        obs = self.rgb2gray(obs)\n",
    "        obs = torch.tensor(obs, dtype=torch.float)\n",
    "        obs = obs[:, 25:200, :] ## Crop obs to remove score board on top\n",
    "        obs = obs / 255\n",
    "        return obs\n",
    "\n",
    "    def step(self, action):\n",
    "        obs, reward, done, _ = self.env.step(action)\n",
    "        done = self._episodic()\n",
    "        obs = self._preprocess_obs(obs)\n",
    "        return obs, reward, done\n",
    "    \n",
    "    def reset(self):\n",
    "        obs = self.env.reset()\n",
    "        obs = self._fire_to_start()\n",
    "        obs = self._preprocess_obs(obs)\n",
    "        return obs"
   ]
  },
  {
   "cell_type": "code",
   "execution_count": null,
   "metadata": {},
   "outputs": [],
   "source": [
    "def make_env(env):\n",
    "    env = gym.wrappers.FrameStack(env, 4) ## Stack 4 frames together\n",
    "    env = PytorchWrapper(env)\n",
    "    return env"
   ]
  },
  {
   "cell_type": "markdown",
   "metadata": {},
   "source": [
    "# Policy Network - CNN"
   ]
  },
  {
   "cell_type": "code",
   "execution_count": null,
   "metadata": {},
   "outputs": [],
   "source": [
    "class Policy(nn.Module):\n",
    "    def __init__(self, action_space, input_channels=3):\n",
    "        super().__init__()\n",
    "        self.conv1 = nn.Conv2d(input_channels, 32, kernel_size=5, stride=2)\n",
    "        self.conv2 = nn.Conv2d(32, 64, kernel_size=5, stride=2)\n",
    "        self.conv3 = nn.Conv2d(64, 128, kernel_size=5, stride=2)\n",
    "        self.conv4 = nn.Conv2d(128, 256, kernel_size=5, stride=2)\n",
    "\n",
    "        self.pred_head = nn.Sequential(\n",
    "            nn.Linear(256, 128),\n",
    "            nn.LeakyReLU(),\n",
    "            nn.Dropout(0.2),\n",
    "            nn.Linear(128, action_space),\n",
    "        )\n",
    "\n",
    "    def forward(self, x):\n",
    "        x = F.leaky_relu(self.conv1(x))\n",
    "        x = F.dropout(x, 0.2)\n",
    "        x = F.leaky_relu(self.conv2(x))\n",
    "        x = F.dropout(x, 0.2)\n",
    "        x = F.leaky_relu(self.conv3(x))\n",
    "        x = F.dropout(x, 0.2)\n",
    "        x = F.leaky_relu(self.conv4(x))\n",
    "        x = x.mean((-1, -2))\n",
    "        x = self.pred_head(x)\n",
    "        return x"
   ]
  },
  {
   "cell_type": "markdown",
   "metadata": {},
   "source": [
    "# Experience Replay (or) Replay Buffer"
   ]
  },
  {
   "cell_type": "code",
   "execution_count": null,
   "metadata": {},
   "outputs": [],
   "source": [
    "class ReplayBuffer:\n",
    "    def __init__(self, buffer_size=100000):\n",
    "        self.state = []\n",
    "        self.action = []\n",
    "        self.next_state = []\n",
    "        self.reward = []\n",
    "        self.buffer_size = buffer_size\n",
    "    \n",
    "    def store(self, state, action, next_state, reward):\n",
    "        if(len(self.state) == self.buffer_size):\n",
    "            self.state = self.state[1:]\n",
    "            self.action = self.action[1:]\n",
    "            self.next_state = self.next_state[1:]\n",
    "            self.reward = self.reward[1:]\n",
    "        \n",
    "        self.state.append(state)\n",
    "        self.action.append(action)\n",
    "        self.next_state.append(next_state)\n",
    "        self.reward.append(reward)\n",
    "    \n",
    "    def sample_batch(self, batch_size):\n",
    "        idxs = np.random.choice(len(self.state), batch_size)\n",
    "        state = torch.stack(self.state)[idxs]\n",
    "        action = torch.tensor(self.action, dtype=torch.long)[idxs]\n",
    "        next_state = torch.stack(self.next_state)[idxs]\n",
    "        reward = torch.tensor(self.reward, dtype=torch.float)[idxs]\n",
    "        return (state, action, next_state, reward)\n",
    "    \n",
    "    def __len__(self):\n",
    "        return len(self.state)"
   ]
  },
  {
   "cell_type": "markdown",
   "metadata": {},
   "source": [
    "# Q-learning Agent"
   ]
  },
  {
   "cell_type": "code",
   "execution_count": null,
   "metadata": {},
   "outputs": [],
   "source": [
    "class DQN:\n",
    "    def __init__(self, action_size, device, gamma=0.99, lr=0.001, model_path=None):\n",
    "        self.target = Policy(input_channels=4, action_space=action_size).to(device)\n",
    "        self.target.eval()\n",
    "        self.policy = Policy(input_channels=4, action_space=action_size).to(device)\n",
    "        self.optimizer = torch.optim.Adam(self.policy.parameters(), lr=lr)\n",
    "        self.device = device\n",
    "        self.buffer = ReplayBuffer()\n",
    "        self.gamma = gamma\n",
    "        self.action_size = action_size\n",
    "        self.model_path = \"Double_DQN.bin\" if not model_path else model_path\n",
    "    \n",
    "    def loss_fct(self, target, pred):\n",
    "        return F.smooth_l1_loss(pred, target)\n",
    "    \n",
    "    def forward(self, policy, obs, grad=False):\n",
    "        obs = obs.to(self.device)\n",
    "        q_values = policy(obs)\n",
    "        if(not grad):\n",
    "            q_values = q_values.detach()\n",
    "        action = torch.argmax(q_values, 1)\n",
    "        return q_values, action\n",
    "    \n",
    "    def optimize_policy(self, batch):\n",
    "        self.optimizer.zero_grad()\n",
    "        state, action, next_state, reward = batch\n",
    "        action = action.unsqueeze(1).to(device)\n",
    "        reward = reward.to(self.device)\n",
    "        Q, _ = self.forward(self.policy, state, grad=True)\n",
    "        _, next_action = self.forward(self.policy, next_state)\n",
    "        next_Q, _ = self.forward(self.target, next_state)\n",
    "        ## Target value estimation is made using both networks. Prevents overestimation\n",
    "        Q_target = next_Q.gather(1, next_action.unsqueeze(-1)).squeeze()\n",
    "        target = reward + self.gamma * Q_target\n",
    "        Q = Q.gather(1, action).squeeze()\n",
    "        loss = self.loss_fct(Q, target)\n",
    "\n",
    "        loss.backward()\n",
    "        self.optimizer.step()\n",
    "        return loss.item()\n",
    "    \n",
    "    def update_target(self):\n",
    "        self.policy.eval()\n",
    "        self.target.load_state_dict(self.policy.state_dict())\n",
    "        torch.save(self.target.state_dict(), self.model_path)\n",
    "        self.policy.train()\n",
    "    \n",
    "    def load_policy(self, path=None):\n",
    "        if path is None:\n",
    "            path = self.model_path\n",
    "        \n",
    "        self.target.load_state_dict(torch.load(path))\n",
    "        print(\"Successfully loaded\")\n",
    "    \n",
    "    def evaluate_policy(self, env):\n",
    "        obs = env.reset()\n",
    "        done = False\n",
    "        while(not done):\n",
    "            obs = obs.to(self.device)\n",
    "            env.render()\n",
    "            with torch.no_grad():\n",
    "                q_values = self.target(obs)\n",
    "            action = torch.argmax(q_values, 1).item()\n",
    "            obs, reward, done = env.step(action)\n",
    "    \n",
    "    def learn(self, env, episodes, batch_size):\n",
    "        writer = SummaryWriter()\n",
    "        counter = 1\n",
    "        writer_count = 0\n",
    "        print(\"--- Training Agent ---\")\n",
    "        self.update_target()\n",
    "        for eps in range(episodes):\n",
    "            obs = env.reset()\n",
    "            loss_tracker = AverageMeter()\n",
    "            for t in range(10000):\n",
    "                if(np.random.rand() <= 0.3): ## Epsilon greedy\n",
    "                    action = np.random.randint(self.action_size)\n",
    "                else:\n",
    "                    _, action = self.forward(self.policy, obs.unsqueeze(0))\n",
    "                    action = action.item()\n",
    "                next_obs, reward, done = env.step(action)\n",
    "                self.buffer.store(obs, action, next_obs, reward)\n",
    "\n",
    "                if(len(self.buffer) >= batch_size):\n",
    "                    batch = self.buffer.sample_batch(batch_size)\n",
    "                    loss = self.optimize_policy(batch)\n",
    "                    loss_tracker.update(loss)\n",
    "                    writer.add_scalar('Loss', loss, writer_count)\n",
    "                    writer_count += 1\n",
    "                    if(counter % 500 == 0): ## Delayed update of target. Promotes exploration\n",
    "                        self.update_target()\n",
    "                \n",
    "                if((t + 1) % 10 == 0):\n",
    "                    print(f\"Episode: {eps+1}/{episodes}, step: {t+1}/10000, loss: {loss_tracker.avg}\")\n",
    "                \n",
    "                if done: break\n",
    "\n",
    "                counter += 1\n",
    "                obs = next_obs\n",
    "            "
   ]
  },
  {
   "cell_type": "markdown",
   "metadata": {},
   "source": [
    "# Train Agent on Atari Env"
   ]
  },
  {
   "cell_type": "code",
   "execution_count": null,
   "metadata": {},
   "outputs": [],
   "source": [
    "env = gym.make('Breakout-v0') ## if error encountered, perform 'pip install gym[atari]'\n",
    "action_size = env.action_space.n\n",
    "env = make_env(env)"
   ]
  },
  {
   "cell_type": "code",
   "execution_count": null,
   "metadata": {},
   "outputs": [],
   "source": [
    "agent = DQN(action_size, device)"
   ]
  },
  {
   "cell_type": "code",
   "execution_count": null,
   "metadata": {},
   "outputs": [],
   "source": [
    "## Load tensorboard for visualization of loss\n",
    "%load_ext tensorboard\n",
    "%tensorboard --logdir runs"
   ]
  },
  {
   "cell_type": "code",
   "execution_count": null,
   "metadata": {},
   "outputs": [],
   "source": [
    "agent.learn(env, EPISODES, BATCH_SIZE)"
   ]
  },
  {
   "cell_type": "code",
   "execution_count": null,
   "metadata": {},
   "outputs": [],
   "source": []
  }
 ],
 "metadata": {
  "kernelspec": {
   "display_name": "Python 3",
   "language": "python",
   "name": "python3"
  },
  "language_info": {
   "codemirror_mode": {
    "name": "ipython",
    "version": 3
   },
   "file_extension": ".py",
   "mimetype": "text/x-python",
   "name": "python",
   "nbconvert_exporter": "python",
   "pygments_lexer": "ipython3",
   "version": "3.6.9"
  }
 },
 "nbformat": 4,
 "nbformat_minor": 4
}
